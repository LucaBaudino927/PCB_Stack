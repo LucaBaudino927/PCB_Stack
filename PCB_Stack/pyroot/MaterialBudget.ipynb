{
 "cells": [
  {
   "cell_type": "code",
   "execution_count": 1,
   "id": "b4828448-c5ab-40db-b5db-5047d7013f49",
   "metadata": {},
   "outputs": [],
   "source": [
    "import ROOT\n",
    "import scipy\n",
    "import numpy\n",
    "import sys"
   ]
  },
  {
   "cell_type": "code",
   "execution_count": 2,
   "id": "0ff5da6c-a865-4c8d-9407-831d9759472a",
   "metadata": {},
   "outputs": [
    {
     "name": "stdout",
     "output_type": "stream",
     "text": [
      " Reading from  -f  and writing to  /home/luca/snap/root-framework/943/.local/share/jupyter/runtime/kernel-0d171616-b03f-4d22-b3dc-af84103c09ca.json\n"
     ]
    }
   ],
   "source": [
    "if len ( sys.argv ) != 3:\n",
    "    print (\" USAGE : % s < input file > < output file > \" %( sys.argv [0]))\n",
    "    sys . exit (1)\n",
    "inFileName = sys.argv [1]\n",
    "outFileName = sys.argv [2]\n",
    "print (\" Reading from \" , inFileName , \" and writing to \" , outFileName)"
   ]
  },
  {
   "cell_type": "code",
   "execution_count": null,
   "id": "330adc56-0faf-44d7-9d66-71e383329c2c",
   "metadata": {},
   "outputs": [],
   "source": [
    "inFile = ROOT.TFile.Open( inFileName , \" READ \" )"
   ]
  },
  {
   "cell_type": "code",
   "execution_count": null,
   "id": "e12416f6-1a80-4572-ae09-c86450b15fc4",
   "metadata": {},
   "outputs": [],
   "source": [
    "tree = inFile.Get ( \" HASCO \" )"
   ]
  }
 ],
 "metadata": {
  "kernelspec": {
   "display_name": "Python 3 (ipykernel)",
   "language": "python",
   "name": "python3"
  },
  "language_info": {
   "codemirror_mode": {
    "name": "ipython",
    "version": 3
   },
   "file_extension": ".py",
   "mimetype": "text/x-python",
   "name": "python",
   "nbconvert_exporter": "python",
   "pygments_lexer": "ipython3",
   "version": "3.12.3"
  }
 },
 "nbformat": 4,
 "nbformat_minor": 5
}
